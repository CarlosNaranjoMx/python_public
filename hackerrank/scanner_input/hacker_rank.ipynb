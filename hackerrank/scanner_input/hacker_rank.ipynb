{
  "cells": [
    {
      "cell_type": "markdown",
      "metadata": {
        "id": "view-in-github",
        "colab_type": "text"
      },
      "source": [
        "<a href=\"https://colab.research.google.com/github/CarlosNaranjoMx/python_public/blob/main/hackerrank/scanner_input/hacker_rank.ipynb\" target=\"_parent\"><img src=\"https://colab.research.google.com/assets/colab-badge.svg\" alt=\"Open In Colab\"/></a>"
      ]
    },
    {
      "cell_type": "markdown",
      "metadata": {
        "id": "Tpmp7P7J_EtO"
      },
      "source": [
        "# HackerRank Ejercicios\n",
        "\n",
        "\n"
      ]
    },
    {
      "cell_type": "markdown",
      "source": [
        "![Captura de pantalla 2023-07-08 205852.png](data:image/png;base64,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)"
      ],
      "metadata": {
        "id": "JsLtig7BltRR"
      }
    },
    {
      "cell_type": "markdown",
      "source": [
        "## ejercicio1_list_manipulation"
      ],
      "metadata": {
        "id": "uhqwq5npkwFa"
      }
    },
    {
      "cell_type": "code",
      "execution_count": null,
      "metadata": {
        "colab": {
          "base_uri": "https://localhost:8080/"
        },
        "id": "uDWtuKwg_Eta",
        "outputId": "c7ab1756-86de-4a2b-f736-535b6ee29ce5"
      },
      "outputs": [
        {
          "output_type": "stream",
          "name": "stdout",
          "text": [
            "\n"
          ]
        }
      ],
      "source": [
        "if __name__ == '__main__':\n",
        "    N = int(input())  # Read the initial size of the list\n",
        "    my_list = []\n",
        "\n",
        "    for _ in range(N):\n",
        "        command, *args = input().split()  # Read each command and its arguments (if any)\n",
        "\n",
        "        if command == 'insert':\n",
        "            i, e = map(int, args)\n",
        "            my_list.insert(i, e)\n",
        "        elif command == 'print':\n",
        "            print(my_list)\n",
        "        elif command == 'remove':\n",
        "            e = int(args[0])\n",
        "            my_list.remove(e)\n",
        "        elif command == 'append':\n",
        "            e = int(args[0])\n",
        "            my_list.append(e)\n",
        "        elif command == 'sort':\n",
        "            my_list.sort()\n",
        "        elif command == 'pop':\n",
        "            my_list.pop()\n",
        "        elif command == 'reverse':\n",
        "            my_list.reverse()\n"
      ]
    },
    {
      "cell_type": "markdown",
      "source": [
        "## ejercicio2_tuple_hashing"
      ],
      "metadata": {
        "id": "RiiFy2NJcmPK"
      }
    },
    {
      "cell_type": "code",
      "source": [
        "if __name__ == '__main__':\n",
        "    n = int(input())\n",
        "    integer_list = map(int, input().split())\n",
        "    integer_list = tuple(integer_list)\n",
        "    result = hash(integer_list)  # Calcula elhas hde la tupla\n",
        "    print(result)  # Imprime el resultado del hash"
      ],
      "metadata": {
        "id": "qt1HOLtacoMg"
      },
      "execution_count": null,
      "outputs": []
    },
    {
      "cell_type": "markdown",
      "source": [
        "## ejercicio3_sWAP_cASE"
      ],
      "metadata": {
        "id": "EXWibjI7crDJ"
      }
    },
    {
      "cell_type": "code",
      "source": [
        "def swap_case(s):\n",
        "    return s.swapcase()\n",
        "\n",
        "if __name__ == '__main__':\n",
        "    s = input()\n",
        "    result = swap_case(s)\n",
        "    print(result)"
      ],
      "metadata": {
        "id": "VlVcgtNvcrYq"
      },
      "execution_count": null,
      "outputs": []
    },
    {
      "cell_type": "markdown",
      "source": [
        "## ejercicio4_split_and_join"
      ],
      "metadata": {
        "id": "7-ff8zDecriq"
      }
    },
    {
      "cell_type": "code",
      "source": [
        "def split_and_join(line):\n",
        "    # write your code here\n",
        "    words = line.split(\" \")\n",
        "    # join the words with -\n",
        "    return \"-\".join(words)\n",
        "\n",
        "if __name__ == '__main__':\n",
        "    line = input()\n",
        "    result = split_and_join(line)\n",
        "    print(result)"
      ],
      "metadata": {
        "id": "cFqipd-gcrsQ"
      },
      "execution_count": null,
      "outputs": []
    },
    {
      "cell_type": "markdown",
      "source": [
        "## ejericio5_whats_your_name"
      ],
      "metadata": {
        "id": "Ztrrw7Kocr0h"
      }
    },
    {
      "cell_type": "code",
      "source": [
        "#\n",
        "# Complete the 'print_full_name' function below.\n",
        "#\n",
        "# The function is expected to return a STRING.\n",
        "# The function accepts following parameters:\n",
        "#  1. STRING first\n",
        "#  2. STRING last\n",
        "#\n",
        "\n",
        "def print_full_name(first, last):\n",
        "    print(f\"Hello {first} {last}! You just delved into python.\")\n",
        "    # Write your code here\n",
        "\n",
        "if __name__ == '__main__':\n",
        "    first_name = input()\n",
        "    last_name = input()\n",
        "    print_full_name(first_name, last_name)"
      ],
      "metadata": {
        "id": "XLRqHHNhcr6y"
      },
      "execution_count": null,
      "outputs": []
    },
    {
      "cell_type": "markdown",
      "source": [
        "## ejercicio6_find_string"
      ],
      "metadata": {
        "id": "1HOE-YZEctU8"
      }
    },
    {
      "cell_type": "code",
      "source": [
        "def count_substring(string, sub_string):\n",
        "    count = 0\n",
        "    for i in range(len(string)):\n",
        "        if string[i:].startswith(sub_string):\n",
        "            count += 1\n",
        "    return count\n",
        "\n",
        "if __name__ == '__main__':\n",
        "    string = input().strip()\n",
        "    sub_string = input().strip()\n",
        "\n",
        "    count = count_substring(string, sub_string)\n",
        "    print(count)"
      ],
      "metadata": {
        "id": "fiew5NpmctZ-"
      },
      "execution_count": null,
      "outputs": []
    },
    {
      "cell_type": "markdown",
      "source": [
        "# coursera"
      ],
      "metadata": {
        "id": "LkO_WylOxnjc"
      }
    },
    {
      "cell_type": "code",
      "source": [
        "a = 4\n",
        "b = 3\n",
        "r = b\n",
        "while a > 1 :\n",
        "  a = a - 1\n",
        "  b2 = b\n",
        "  r2 = 0\n",
        "  while b2 > 0:\n",
        "    r2 = r2 + r\n",
        "    b2 = b2 - 1\n",
        "  r = r2\n",
        "print(r)"
      ],
      "metadata": {
        "id": "S8ZFiXH4xsDu",
        "outputId": "095a7afa-e607-4cf6-e097-12bcbc13f82a",
        "colab": {
          "base_uri": "https://localhost:8080/"
        }
      },
      "execution_count": null,
      "outputs": [
        {
          "output_type": "stream",
          "name": "stdout",
          "text": [
            "81\n"
          ]
        }
      ]
    },
    {
      "cell_type": "code",
      "source": [
        "a = 3\n",
        "for i in range(2,3):\n",
        "  a = a*i\n",
        "  print(i)\n",
        "print(a)"
      ],
      "metadata": {
        "id": "H6B3009OyiI7",
        "outputId": "e0d4d986-b2dd-4b1b-fb5d-5612b78dbbc6",
        "colab": {
          "base_uri": "https://localhost:8080/"
        }
      },
      "execution_count": null,
      "outputs": [
        {
          "output_type": "stream",
          "name": "stdout",
          "text": [
            "2\n",
            "6\n"
          ]
        }
      ]
    },
    {
      "cell_type": "code",
      "source": [
        "a = 2\n",
        "for i in range(1,4):\n",
        "  a = i ** a\n",
        "print(a)"
      ],
      "metadata": {
        "id": "yJTCcveCyp5w",
        "outputId": "5ff742de-f2ea-4472-f87d-5d79c636a514",
        "colab": {
          "base_uri": "https://localhost:8080/"
        }
      },
      "execution_count": null,
      "outputs": [
        {
          "output_type": "stream",
          "name": "stdout",
          "text": [
            "9\n"
          ]
        }
      ]
    },
    {
      "cell_type": "markdown",
      "source": [
        "## Primos"
      ],
      "metadata": {
        "id": "PO0GipwRbOfq"
      }
    },
    {
      "cell_type": "code",
      "source": [
        "\n",
        "def es_primo(numero):\n",
        "  primo = True\n",
        "  if(numero==1): primo=False\n",
        "  for i in range(2,numero):\n",
        "    if(numero%i==0):\n",
        "      primo=False\n",
        "  # aquí debes implementar tu código\n",
        "  # modificando la variable primo\n",
        "  # (no modifiques nada de las lineas anteriores)\n",
        "  return primo\n",
        "\n",
        "if __name__==\"__main__\":\n",
        "  entrada = int(input())\n",
        "  print(es_primo(entrada))\n",
        "\n"
      ],
      "metadata": {
        "colab": {
          "base_uri": "https://localhost:8080/"
        },
        "id": "t7WNFebGbP77",
        "outputId": "db50bf65-43ec-45c3-cf89-cdbe34a1cf68"
      },
      "execution_count": null,
      "outputs": [
        {
          "output_type": "stream",
          "name": "stdout",
          "text": [
            "7\n",
            "True\n"
          ]
        }
      ]
    },
    {
      "cell_type": "markdown",
      "source": [
        "## mi_red"
      ],
      "metadata": {
        "id": "f4XxniUy_4Lz"
      }
    },
    {
      "cell_type": "markdown",
      "source": [
        "# Organizar el código"
      ],
      "metadata": {
        "id": "_5XQetHnoVF7"
      }
    },
    {
      "cell_type": "code",
      "source": [
        "#Finalmente, podemos ver que nuestro archivo es cada vez mÃ¡s grande.\n",
        "\n",
        "#Vamos a crear un nuevo archivo .py y copiaremos en Ã©l todas las funciones que hemos definido.\n",
        "#Llamaremos a este archivo S4Red.py. Luego, para poder utilizar estas funciones dentro de nuestro archivo\n",
        "#principal, utilizaremos la instrucciÃ³n import.\n",
        "import S4Red as Red\n",
        "\n",
        "#AquÃ­ empieza el programa principal.\n",
        "\n",
        "Red.mostrar_bienvenida()\n",
        "(nombre, edad, estatura_m, estatura_cm, num_amigos) = Red.obtener_datos()\n",
        "\n",
        "print(\"Muy bien,\", nombre, \". Entonces podemos crear un perfil con estos datos.\")\n",
        "Red.mostrar_perfil(nombre, edad, estatura_m, estatura_cm, num_amigos)\n",
        "print(\"Ya podemos preguntar, recordar y calcular datos. Esperamos que disfrutes con Mi Red\")\n",
        "print(\"--------------------------------------------------\")\n",
        "\n",
        "opcion = 1\n",
        "while opcion != 0:\n",
        "    opcion = Red.opcion_menu()\n",
        "    if opcion == 1:\n",
        "        mensaje = Red.obtener_mensaje()\n",
        "        Red.mostrar_mensaje(nombre, None, mensaje)\n",
        "    elif opcion == 2:\n",
        "        mensaje = Red.obtener_mensaje()\n",
        "        for i in range(num_amigos):\n",
        "            nombre_amigo = input(\"Ingresa el nombre de tu amigo o amiga: \")\n",
        "            Red.mostrar_mensaje(nombre, nombre_amigo, mensaje)\n",
        "    elif opcion == 3:\n",
        "        Red.mostrar_perfil(nombre, edad, estatura_m, estatura_cm, num_amigos)\n",
        "    elif opcion == 4:\n",
        "        nombre = Red.obtener_nombre()\n",
        "        edad = Red.obtener_edad()\n",
        "        (estatura_m, estatura_cm) = Red.obtener_estatura()\n",
        "        num_amigos = Red.obtener_num_amigos()\n",
        "        Red.mostrar_perfil(nombre, edad, estatura_m, estatura_cm, num_amigos)\n",
        "    elif opcion == 0:\n",
        "        print(\"Has decidido salir.\")\n",
        "\n",
        "print(\"Gracias por usar Mi Red. Â¡Hasta pronto!\")\n",
        "\n",
        "#Como puedes ver, la parte principal de tu programa ahora es mucho mÃ¡s corto.\n",
        "#Gran parte de la funcionalidad estÃ¡ encapsulada en funciones, y estas funciones estÃ¡n definidas\n",
        "# en otro archivo que hemos importado.\n",
        "\n",
        "#Al usar funciones podemos concentrarnos en partes mÃ¡s especÃ­ficas de nuestro cÃ³digo,\n",
        "# y nos ayuda a razonar a un nivel mÃ¡s alto.\n"
      ],
      "metadata": {
        "id": "HcNQP3vcoaBI"
      },
      "execution_count": null,
      "outputs": []
    },
    {
      "cell_type": "code",
      "source": [
        "a = open(\"algo.txt\",\"w\")\n",
        "a.write(\"algo\")\n",
        "a.write(\"hola\")\n",
        "a.close"
      ],
      "metadata": {
        "colab": {
          "base_uri": "https://localhost:8080/"
        },
        "id": "2UCDMoeXo89h",
        "outputId": "2738c88c-90c4-420d-8d78-d0b3a52b5882"
      },
      "execution_count": 4,
      "outputs": [
        {
          "output_type": "execute_result",
          "data": {
            "text/plain": [
              "<function TextIOWrapper.close()>"
            ]
          },
          "metadata": {},
          "execution_count": 4
        }
      ]
    },
    {
      "cell_type": "markdown",
      "source": [
        "# mezcladores"
      ],
      "metadata": {
        "id": "BXn4heiaHjBl"
      }
    },
    {
      "cell_type": "code",
      "source": [
        "# 1\n",
        "def mezclador(string_a, string_b):\n",
        "  resultado = string_a[0:2] + string_b[-2] + string_b[-1]\n",
        "\n",
        "  # aquí debes escribir el código de tu programa\n",
        "  return resultado # aquí debes retornar el resultado"
      ],
      "metadata": {
        "id": "fDVHu2oKtOI5"
      },
      "execution_count": null,
      "outputs": []
    },
    {
      "cell_type": "code",
      "source": [
        "# 2\n",
        "def intercalar(string_a, string_b):\n",
        "  resultado = \"\"\n",
        "  for elem in string_a:\n",
        "    resultado += elem + string_b\n",
        "  return resultado # aquí debes retornar el resultado"
      ],
      "metadata": {
        "id": "hP2glvRFH0hg"
      },
      "execution_count": null,
      "outputs": []
    },
    {
      "cell_type": "markdown",
      "source": [
        "## version_lambda"
      ],
      "metadata": {
        "id": "r6mSffHXIJaX"
      }
    },
    {
      "cell_type": "code",
      "source": [
        "intercalar = lambda string_a, string_b: \"\".join([char + string_b for char in string_a]) # aquí se define la función lambda\n",
        "\n",
        "print(intercalar(\"hola\", \"mundo\")) # esto imprimirá \"hmolua\"\n"
      ],
      "metadata": {
        "id": "XJzLn4P7IIeh"
      },
      "execution_count": null,
      "outputs": []
    },
    {
      "cell_type": "code",
      "source": [
        "print(\"CADENA\"[-2:-0])"
      ],
      "metadata": {
        "id": "qTnsqNvdJ7wR",
        "outputId": "137a2bb6-8883-45d1-c951-803c1d23f528",
        "colab": {
          "base_uri": "https://localhost:8080/"
        }
      },
      "execution_count": 9,
      "outputs": [
        {
          "output_type": "stream",
          "name": "stdout",
          "text": [
            "\n"
          ]
        }
      ]
    },
    {
      "cell_type": "code",
      "source": [
        "def remover_enesimo(s, n):\n",
        "  resultado = s[n-1] + s[n+1]\n",
        "  return resultado"
      ],
      "metadata": {
        "id": "xwHfpwN1JoHK"
      },
      "execution_count": null,
      "outputs": []
    },
    {
      "cell_type": "code",
      "source": [
        "# 3\n",
        "def ocurrencias(string):\n",
        "  return string.count(\"1\") - string.count(\"0\") # aquí debes retornar el resultado"
      ],
      "metadata": {
        "id": "NKRyDLROLqgM"
      },
      "execution_count": null,
      "outputs": []
    },
    {
      "cell_type": "code",
      "source": [
        "# 4\n",
        "def remover_enesimo(s, n):\n",
        "  lista = list(s) # convierte la s en una lista\n",
        "  del lista[n] # elimina el segundo elemento de la lista\n",
        "  resultado = \"\".join(lista)\n",
        "  return resultado # aquí debes retornar el resultado\n",
        "\n",
        "print(remover_enesimo(\"Archivos\",7))"
      ],
      "metadata": {
        "id": "nokQ0Q1QKjL4",
        "outputId": "3ad584c9-40e2-42bf-c486-b255c46d716a",
        "colab": {
          "base_uri": "https://localhost:8080/"
        }
      },
      "execution_count": 10,
      "outputs": [
        {
          "output_type": "stream",
          "name": "stdout",
          "text": [
            "Archivo\n"
          ]
        }
      ]
    },
    {
      "cell_type": "code",
      "source": [
        "# 5\n",
        "def reemplazo(string):\n",
        "  resultado = \"\"\n",
        "  actual = \"\"\n",
        "  for elem in string:\n",
        "    actual = elem\n",
        "    if elem.isupper():\n",
        "      actual = \"$\"\n",
        "    resultado += actual\n",
        "  return resultado"
      ],
      "metadata": {
        "id": "yF9uLiF2LOO6"
      },
      "execution_count": null,
      "outputs": []
    }
  ],
  "metadata": {
    "colab": {
      "provenance": [],
      "include_colab_link": true
    },
    "language_info": {
      "name": "python"
    },
    "kernelspec": {
      "name": "python3",
      "display_name": "Python 3"
    }
  },
  "nbformat": 4,
  "nbformat_minor": 0
}