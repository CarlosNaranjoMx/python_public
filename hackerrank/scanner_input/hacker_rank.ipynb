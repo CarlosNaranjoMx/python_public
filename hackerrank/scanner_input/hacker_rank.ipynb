{
  "cells": [
    {
      "cell_type": "markdown",
      "metadata": {
        "id": "view-in-github",
        "colab_type": "text"
      },
      "source": [
        "<a href=\"https://colab.research.google.com/github/CarlosNaranjoMx/python_public/blob/main/hackerrank/scanner_input/hacker_rank.ipynb\" target=\"_parent\"><img src=\"https://colab.research.google.com/assets/colab-badge.svg\" alt=\"Open In Colab\"/></a>"
      ]
    },
    {
      "cell_type": "markdown",
      "metadata": {
        "id": "Tpmp7P7J_EtO"
      },
      "source": [
        "# HackerRank Ejercicios\n",
        "\n",
        "\n"
      ]
    },
    {
      "cell_type": "markdown",
      "source": [
        "## ejercicio1_list_manipulation"
      ],
      "metadata": {
        "id": "uhqwq5npkwFa"
      }
    },
    {
      "cell_type": "code",
      "execution_count": null,
      "metadata": {
        "colab": {
          "base_uri": "https://localhost:8080/"
        },
        "id": "uDWtuKwg_Eta",
        "outputId": "c7ab1756-86de-4a2b-f736-535b6ee29ce5"
      },
      "outputs": [
        {
          "output_type": "stream",
          "name": "stdout",
          "text": [
            "\n"
          ]
        }
      ],
      "source": [
        "if __name__ == '__main__':\n",
        "    N = int(input())  # Read the initial size of the list\n",
        "    my_list = []\n",
        "\n",
        "    for _ in range(N):\n",
        "        command, *args = input().split()  # Read each command and its arguments (if any)\n",
        "\n",
        "        if command == 'insert':\n",
        "            i, e = map(int, args)\n",
        "            my_list.insert(i, e)\n",
        "        elif command == 'print':\n",
        "            print(my_list)\n",
        "        elif command == 'remove':\n",
        "            e = int(args[0])\n",
        "            my_list.remove(e)\n",
        "        elif command == 'append':\n",
        "            e = int(args[0])\n",
        "            my_list.append(e)\n",
        "        elif command == 'sort':\n",
        "            my_list.sort()\n",
        "        elif command == 'pop':\n",
        "            my_list.pop()\n",
        "        elif command == 'reverse':\n",
        "            my_list.reverse()\n"
      ]
    },
    {
      "cell_type": "markdown",
      "source": [
        "## ejercicio2_tuple_hashing"
      ],
      "metadata": {
        "id": "RiiFy2NJcmPK"
      }
    },
    {
      "cell_type": "code",
      "source": [
        "if __name__ == '__main__':\n",
        "    n = int(input())\n",
        "    integer_list = map(int, input().split())\n",
        "    integer_list = tuple(integer_list)\n",
        "    result = hash(integer_list)  # Calcula elhas hde la tupla\n",
        "    print(result)  # Imprime el resultado del hash"
      ],
      "metadata": {
        "id": "qt1HOLtacoMg"
      },
      "execution_count": null,
      "outputs": []
    },
    {
      "cell_type": "markdown",
      "source": [
        "## ejercicio3_sWAP_cASE"
      ],
      "metadata": {
        "id": "EXWibjI7crDJ"
      }
    },
    {
      "cell_type": "code",
      "source": [
        "def swap_case(s):\n",
        "    return s.swapcase()\n",
        "\n",
        "if __name__ == '__main__':\n",
        "    s = input()\n",
        "    result = swap_case(s)\n",
        "    print(result)"
      ],
      "metadata": {
        "id": "VlVcgtNvcrYq"
      },
      "execution_count": null,
      "outputs": []
    },
    {
      "cell_type": "markdown",
      "source": [
        "## ejercicio4_split_and_join"
      ],
      "metadata": {
        "id": "7-ff8zDecriq"
      }
    },
    {
      "cell_type": "code",
      "source": [
        "def split_and_join(line):\n",
        "    # write your code here\n",
        "    words = line.split(\" \")\n",
        "    # join the words with -\n",
        "    return \"-\".join(words)\n",
        "\n",
        "if __name__ == '__main__':\n",
        "    line = input()\n",
        "    result = split_and_join(line)\n",
        "    print(result)"
      ],
      "metadata": {
        "id": "cFqipd-gcrsQ"
      },
      "execution_count": null,
      "outputs": []
    },
    {
      "cell_type": "markdown",
      "source": [
        "## ejericio5_whats_your_name"
      ],
      "metadata": {
        "id": "Ztrrw7Kocr0h"
      }
    },
    {
      "cell_type": "code",
      "source": [
        "#\n",
        "# Complete the 'print_full_name' function below.\n",
        "#\n",
        "# The function is expected to return a STRING.\n",
        "# The function accepts following parameters:\n",
        "#  1. STRING first\n",
        "#  2. STRING last\n",
        "#\n",
        "\n",
        "def print_full_name(first, last):\n",
        "    print(f\"Hello {first} {last}! You just delved into python.\")\n",
        "    # Write your code here\n",
        "\n",
        "if __name__ == '__main__':\n",
        "    first_name = input()\n",
        "    last_name = input()\n",
        "    print_full_name(first_name, last_name)"
      ],
      "metadata": {
        "id": "XLRqHHNhcr6y"
      },
      "execution_count": null,
      "outputs": []
    },
    {
      "cell_type": "markdown",
      "source": [
        "## ejercicio6_find_string"
      ],
      "metadata": {
        "id": "1HOE-YZEctU8"
      }
    },
    {
      "cell_type": "code",
      "source": [
        "def count_substring(string, sub_string):\n",
        "    count = 0\n",
        "    for i in range(len(string)):\n",
        "        if string[i:].startswith(sub_string):\n",
        "            count += 1\n",
        "    return count\n",
        "\n",
        "if __name__ == '__main__':\n",
        "    string = input().strip()\n",
        "    sub_string = input().strip()\n",
        "\n",
        "    count = count_substring(string, sub_string)\n",
        "    print(count)"
      ],
      "metadata": {
        "id": "fiew5NpmctZ-"
      },
      "execution_count": null,
      "outputs": []
    },
    {
      "cell_type": "markdown",
      "source": [
        "# coursera"
      ],
      "metadata": {
        "id": "LkO_WylOxnjc"
      }
    },
    {
      "cell_type": "code",
      "source": [
        "a = 4\n",
        "b = 3\n",
        "r = b\n",
        "while a > 1 :\n",
        "  a = a - 1\n",
        "  b2 = b\n",
        "  r2 = 0\n",
        "  while b2 > 0:\n",
        "    r2 = r2 + r\n",
        "    b2 = b2 - 1\n",
        "  r = r2\n",
        "print(r)"
      ],
      "metadata": {
        "id": "S8ZFiXH4xsDu",
        "outputId": "095a7afa-e607-4cf6-e097-12bcbc13f82a",
        "colab": {
          "base_uri": "https://localhost:8080/"
        }
      },
      "execution_count": null,
      "outputs": [
        {
          "output_type": "stream",
          "name": "stdout",
          "text": [
            "81\n"
          ]
        }
      ]
    },
    {
      "cell_type": "code",
      "source": [
        "a = 3\n",
        "for i in range(2,3):\n",
        "  a = a*i\n",
        "  print(i)\n",
        "print(a)"
      ],
      "metadata": {
        "id": "H6B3009OyiI7",
        "outputId": "e0d4d986-b2dd-4b1b-fb5d-5612b78dbbc6",
        "colab": {
          "base_uri": "https://localhost:8080/"
        }
      },
      "execution_count": null,
      "outputs": [
        {
          "output_type": "stream",
          "name": "stdout",
          "text": [
            "2\n",
            "6\n"
          ]
        }
      ]
    },
    {
      "cell_type": "code",
      "source": [
        "a = 2\n",
        "for i in range(1,4):\n",
        "  a = i ** a\n",
        "print(a)"
      ],
      "metadata": {
        "id": "yJTCcveCyp5w",
        "outputId": "5ff742de-f2ea-4472-f87d-5d79c636a514",
        "colab": {
          "base_uri": "https://localhost:8080/"
        }
      },
      "execution_count": null,
      "outputs": [
        {
          "output_type": "stream",
          "name": "stdout",
          "text": [
            "9\n"
          ]
        }
      ]
    },
    {
      "cell_type": "markdown",
      "source": [
        "## Primos"
      ],
      "metadata": {
        "id": "PO0GipwRbOfq"
      }
    },
    {
      "cell_type": "code",
      "source": [
        "\n",
        "def es_primo(numero):\n",
        "  primo = True\n",
        "  if(numero==1): primo=False\n",
        "  for i in range(2,numero):\n",
        "    if(numero%i==0):\n",
        "      primo=False\n",
        "  # aquí debes implementar tu código\n",
        "  # modificando la variable primo\n",
        "  # (no modifiques nada de las lineas anteriores)\n",
        "  return primo\n",
        "\n",
        "if __name__==\"__main__\":\n",
        "  entrada = int(input())\n",
        "  print(es_primo(entrada))\n",
        "\n"
      ],
      "metadata": {
        "colab": {
          "base_uri": "https://localhost:8080/"
        },
        "id": "t7WNFebGbP77",
        "outputId": "db50bf65-43ec-45c3-cf89-cdbe34a1cf68"
      },
      "execution_count": 13,
      "outputs": [
        {
          "output_type": "stream",
          "name": "stdout",
          "text": [
            "7\n",
            "True\n"
          ]
        }
      ]
    },
    {
      "cell_type": "code",
      "source": [],
      "metadata": {
        "id": "YnL48Kzlb6yA"
      },
      "execution_count": null,
      "outputs": []
    }
  ],
  "metadata": {
    "colab": {
      "provenance": [],
      "toc_visible": true,
      "include_colab_link": true
    },
    "language_info": {
      "name": "python"
    },
    "kernelspec": {
      "name": "python3",
      "display_name": "Python 3"
    }
  },
  "nbformat": 4,
  "nbformat_minor": 0
}