{
  "cells": [
    {
      "cell_type": "markdown",
      "metadata": {
        "id": "view-in-github",
        "colab_type": "text"
      },
      "source": [
        "<a href=\"https://colab.research.google.com/github/CarlosNaranjoMx/python_public/blob/main/hackerrank/scanner_input/hacker_rank.ipynb\" target=\"_parent\"><img src=\"https://colab.research.google.com/assets/colab-badge.svg\" alt=\"Open In Colab\"/></a>"
      ]
    },
    {
      "cell_type": "markdown",
      "metadata": {
        "id": "Tpmp7P7J_EtO"
      },
      "source": [
        "# HackerRank Ejercicios\n",
        "\n",
        "\n"
      ]
    },
    {
      "cell_type": "markdown",
      "source": [
        "## Ejercicio 01"
      ],
      "metadata": {
        "id": "uhqwq5npkwFa"
      }
    },
    {
      "cell_type": "code",
      "execution_count": null,
      "metadata": {
        "colab": {
          "base_uri": "https://localhost:8080/"
        },
        "id": "uDWtuKwg_Eta",
        "outputId": "c7ab1756-86de-4a2b-f736-535b6ee29ce5"
      },
      "outputs": [
        {
          "output_type": "stream",
          "name": "stdout",
          "text": [
            "\n"
          ]
        }
      ],
      "source": [
        "\n",
        "print(\"\")\n"
      ]
    },
    {
      "cell_type": "markdown",
      "source": [
        "# coursera"
      ],
      "metadata": {
        "id": "LkO_WylOxnjc"
      }
    },
    {
      "cell_type": "code",
      "source": [
        "a = 4\n",
        "b = 3\n",
        "r = b\n",
        "while a > 1 :\n",
        "  a = a - 1\n",
        "  b2 = b\n",
        "  r2 = 0\n",
        "  while b2 > 0:\n",
        "    r2 = r2 + r\n",
        "    b2 = b2 - 1\n",
        "  r = r2\n",
        "print(r)"
      ],
      "metadata": {
        "id": "S8ZFiXH4xsDu",
        "outputId": "095a7afa-e607-4cf6-e097-12bcbc13f82a",
        "colab": {
          "base_uri": "https://localhost:8080/"
        }
      },
      "execution_count": null,
      "outputs": [
        {
          "output_type": "stream",
          "name": "stdout",
          "text": [
            "81\n"
          ]
        }
      ]
    },
    {
      "cell_type": "code",
      "source": [
        "a = 3\n",
        "for i in range(2,3):\n",
        "  a = a*i\n",
        "  print(i)\n",
        "print(a)"
      ],
      "metadata": {
        "id": "H6B3009OyiI7",
        "outputId": "e0d4d986-b2dd-4b1b-fb5d-5612b78dbbc6",
        "colab": {
          "base_uri": "https://localhost:8080/"
        }
      },
      "execution_count": null,
      "outputs": [
        {
          "output_type": "stream",
          "name": "stdout",
          "text": [
            "2\n",
            "6\n"
          ]
        }
      ]
    },
    {
      "cell_type": "code",
      "source": [
        "a = 2\n",
        "for i in range(1,4):\n",
        "  a = i ** a\n",
        "print(a)"
      ],
      "metadata": {
        "id": "yJTCcveCyp5w",
        "outputId": "5ff742de-f2ea-4472-f87d-5d79c636a514",
        "colab": {
          "base_uri": "https://localhost:8080/"
        }
      },
      "execution_count": null,
      "outputs": [
        {
          "output_type": "stream",
          "name": "stdout",
          "text": [
            "9\n"
          ]
        }
      ]
    },
    {
      "cell_type": "markdown",
      "source": [
        "## Primos"
      ],
      "metadata": {
        "id": "PO0GipwRbOfq"
      }
    },
    {
      "cell_type": "code",
      "source": [
        "\n",
        "def es_primo(numero):\n",
        "  primo = True\n",
        "  if(numero==1): primo=False\n",
        "  for i in range(2,numero):\n",
        "    if(numero%i==0):\n",
        "      primo=False\n",
        "  # aquí debes implementar tu código\n",
        "  # modificando la variable primo\n",
        "  # (no modifiques nada de las lineas anteriores)\n",
        "  return primo\n",
        "\n",
        "if __name__==\"__main__\":\n",
        "  entrada = int(input())\n",
        "  print(es_primo(entrada))\n",
        "\n"
      ],
      "metadata": {
        "id": "t7WNFebGbP77",
        "outputId": "db50bf65-43ec-45c3-cf89-cdbe34a1cf68",
        "colab": {
          "base_uri": "https://localhost:8080/"
        }
      },
      "execution_count": 13,
      "outputs": [
        {
          "output_type": "stream",
          "name": "stdout",
          "text": [
            "7\n",
            "True\n"
          ]
        }
      ]
    },
    {
      "cell_type": "code",
      "source": [],
      "metadata": {
        "id": "YnL48Kzlb6yA"
      },
      "execution_count": null,
      "outputs": []
    }
  ],
  "metadata": {
    "colab": {
      "provenance": [],
      "toc_visible": true,
      "include_colab_link": true
    },
    "language_info": {
      "name": "python"
    },
    "kernelspec": {
      "name": "python3",
      "display_name": "Python 3"
    }
  },
  "nbformat": 4,
  "nbformat_minor": 0
}