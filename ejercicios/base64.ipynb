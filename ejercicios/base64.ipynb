import base64

imagen = input("Ingrese el valor de la imagen:")

with open("image.png", "wb") as fh:
    fh.write(base64.decodebytes(b'+imagen+'))
