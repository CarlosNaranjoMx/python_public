{
 "cells": [
  {
   "cell_type": "markdown",
   "metadata": {},
   "source": [
    "# Ejemplo de cuaderno Jupyter Notebook\n",
    "\n",
    "Este es un ejemplo de cuaderno Jupyter Notebook. Puedes escribir código en las celdas de código y texto en las celdas de Markdown.\n",
    "\n",
    "Para ejecutar una celda de código, haz clic en la celda y presiona Shift + Enter.\n"
   ]
  },
  {
   "cell_type": "code",
   "execution_count": 1,
   "metadata": {},
   "outputs": [
    {
     "name": "stdout",
     "output_type": "stream",
     "text": [
      "Hola, mundo!\n"
     ]
    }
   ],
   "source": [
    "# Este es un ejemplo de código\n",
    "\n",
    "# Imprime \"Hola, mundo!\" en la consola\n",
    "print(\"Hola, mundo!\")\n"
   ]
  }
 ],
 "metadata": {},
 "nbformat": 4,
 "nbformat_minor": 0
}
